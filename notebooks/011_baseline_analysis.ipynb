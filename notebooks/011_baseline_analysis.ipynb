{
 "cells": [
  {
   "cell_type": "code",
   "execution_count": 38,
   "metadata": {},
   "outputs": [],
   "source": [
    "import logging\n",
    "from pathlib import Path\n",
    "\n",
    "import pandas as pd\n",
    "import plotly.express as px\n",
    "\n",
    "\n",
    "# Experiment constants\n",
    "EXPERIMENT_NAME = 'exp4.1'\n",
    "# EXPERIMENT_NAME = 'exp3.0'\n",
    "\n",
    "DATA_DIR = Path('../data')\n",
    "EXPERIMENT_DIR = DATA_DIR / EXPERIMENT_NAME\n",
    "EXPERIMENT_DIR.mkdir(exist_ok=True, parents=True)\n",
    "\n",
    "\n",
    "def bootstrap() -> None:\n",
    "    logging.basicConfig(format='%(asctime)s - %(levelname)s - %(message)s')\n",
    "\n",
    "\n",
    "bootstrap()"
   ]
  },
  {
   "cell_type": "code",
   "execution_count": 39,
   "metadata": {},
   "outputs": [],
   "source": [
    "df = pd.concat(map(pd.read_csv, EXPERIMENT_DIR.glob('*.csv')))"
   ]
  },
  {
   "cell_type": "code",
   "execution_count": 40,
   "metadata": {},
   "outputs": [
    {
     "data": {
      "application/vnd.plotly.v1+json": {
       "config": {
        "plotlyServerURL": "https://plot.ly"
       },
       "data": [
        {
         "hovertemplate": "run_id=3<br>trial=%{x}<br>cumulative_reward=%{y}<extra></extra>",
         "legendgroup": "3",
         "line": {
          "color": "#636efa",
          "dash": "solid"
         },
         "marker": {
          "symbol": "circle"
         },
         "mode": "lines",
         "name": "3",
         "showlegend": true,
         "type": "scattergl",
         "x": {
          "bdata": "AAECAwQFBgcICQoLDA0ODxAREhMUFRYXGBkaGxwdHh8gISIjJCUmJygpKissLS4vMDEyMzQ1Njc4OTo7PD0+P0BBQkNERUZHSElKS0xNTk9QUVJTVFVWV1hZWltcXV5fYGFiYw==",
          "dtype": "i1"
         },
         "xaxis": "x",
         "y": {
          "bdata": "AAEBAQIDAwMDAwMDBAUFBgcHBwgICQkKCgsLCwwMDQ0NDg4PEBAQEBERERESExMUFBUWFxcYGRobGxwdHR0dHR0eHh8fHyAgISEhISIiIiIjIyMkJCUlJicoKSkqKissLS0uLg==",
          "dtype": "i1"
         },
         "yaxis": "y"
        },
        {
         "hovertemplate": "run_id=14<br>trial=%{x}<br>cumulative_reward=%{y}<extra></extra>",
         "legendgroup": "14",
         "line": {
          "color": "#EF553B",
          "dash": "solid"
         },
         "marker": {
          "symbol": "circle"
         },
         "mode": "lines",
         "name": "14",
         "showlegend": true,
         "type": "scattergl",
         "x": {
          "bdata": "AAECAwQFBgcICQoLDA0ODxAREhMUFRYXGBkaGxwdHh8gISIjJCUmJygpKissLS4vMDEyMzQ1Njc4OTo7PD0+P0BBQkNERUZHSElKS0xNTk9QUVJTVFVWV1hZWltcXV5fYGFiYw==",
          "dtype": "i1"
         },
         "xaxis": "x",
         "y": {
          "bdata": "AQECAgICAgIDBAQFBgYGBgcHBwcHCAkJCQkJCQkJCgoLCwsLDAwNDg8QEBAQEBESEhITExMTExQVFRYXFxcXGBkZGRkaGhoaGxsbGxscHBwcHR0dHR4fICAgICEhISEhIiMjIw==",
          "dtype": "i1"
         },
         "yaxis": "y"
        },
        {
         "hovertemplate": "run_id=18<br>trial=%{x}<br>cumulative_reward=%{y}<extra></extra>",
         "legendgroup": "18",
         "line": {
          "color": "#00cc96",
          "dash": "solid"
         },
         "marker": {
          "symbol": "circle"
         },
         "mode": "lines",
         "name": "18",
         "showlegend": true,
         "type": "scattergl",
         "x": {
          "bdata": "AAECAwQFBgcICQoLDA0ODxAREhMUFRYXGBkaGxwdHh8gISIjJCUmJygpKissLS4vMDEyMzQ1Njc4OTo7PD0+P0BBQkNERUZHSElKS0xNTk9QUVJTVFVWV1hZWltcXV5fYGFiYw==",
          "dtype": "i1"
         },
         "xaxis": "x",
         "y": {
          "bdata": "AQECAwMEBQUGBgcHCAgICAgJCgsMDQ0ODw8QEBAQEBAQERESExQUFBUWFxgZGhscHB0eHyAhISEiIyQkJCUmJycoKCgpKissLC0tLS0tLi8vLzAwMDEyMzQ0NDU1Njc4OTo7Ow==",
          "dtype": "i1"
         },
         "yaxis": "y"
        },
        {
         "hovertemplate": "run_id=15<br>trial=%{x}<br>cumulative_reward=%{y}<extra></extra>",
         "legendgroup": "15",
         "line": {
          "color": "#ab63fa",
          "dash": "solid"
         },
         "marker": {
          "symbol": "circle"
         },
         "mode": "lines",
         "name": "15",
         "showlegend": true,
         "type": "scattergl",
         "x": {
          "bdata": "AAECAwQFBgcICQoLDA0ODxAREhMUFRYXGBkaGxwdHh8gISIjJCUmJygpKissLS4vMDEyMzQ1Njc4OTo7PD0+P0BBQkNERUZHSElKS0xNTk9QUVJTVFVWV1hZWltcXV5fYGFiYw==",
          "dtype": "i1"
         },
         "xaxis": "x",
         "y": {
          "bdata": "AQECAgICAgMEBQUFBQUGBwgJCgoLDAwMDQ0NDQ0NDQ0ODxAQEBERERESEhISExMUFRUVFRUVFRUWFxcXFxcXGBgZGRkaGhsbGxsbGxscHR0dHh8fHyAgICAgICAhIiMkJSYnKA==",
          "dtype": "i1"
         },
         "yaxis": "y"
        },
        {
         "hovertemplate": "run_id=2<br>trial=%{x}<br>cumulative_reward=%{y}<extra></extra>",
         "legendgroup": "2",
         "line": {
          "color": "#FFA15A",
          "dash": "solid"
         },
         "marker": {
          "symbol": "circle"
         },
         "mode": "lines",
         "name": "2",
         "showlegend": true,
         "type": "scattergl",
         "x": {
          "bdata": "AAECAwQFBgcICQoLDA0ODxAREhMUFRYXGBkaGxwdHh8gISIjJCUmJygpKissLS4vMDEyMzQ1Njc4OTo7PD0+P0BBQkNERUZHSElKS0xNTk9QUVJTVFVWV1hZWltcXV5fYGFiYw==",
          "dtype": "i1"
         },
         "xaxis": "x",
         "y": {
          "bdata": "AQEBAgIDAwQFBQUFBgYHCAgICAkKCgsLCwsLCwsMDQ0ODw8QEBAQERISExQUFBQVFhYWFhcXGBgZGhoaGhoaGxwcHR4fHyAgICAgICEhIiMjIyMjIyMjIyMjIyMjJCQkJCUmJw==",
          "dtype": "i1"
         },
         "yaxis": "y"
        },
        {
         "hovertemplate": "run_id=6<br>trial=%{x}<br>cumulative_reward=%{y}<extra></extra>",
         "legendgroup": "6",
         "line": {
          "color": "#19d3f3",
          "dash": "solid"
         },
         "marker": {
          "symbol": "circle"
         },
         "mode": "lines",
         "name": "6",
         "showlegend": true,
         "type": "scattergl",
         "x": {
          "bdata": "AAECAwQFBgcICQoLDA0ODxAREhMUFRYXGBkaGxwdHh8gISIjJCUmJygpKissLS4vMDEyMzQ1Njc4OTo7PD0+P0BBQkNERUZHSElKS0xNTk9QUVJTVFVWV1hZWltcXV5fYGFiYw==",
          "dtype": "i1"
         },
         "xaxis": "x",
         "y": {
          "bdata": "AAAAAQEBAQIDBAUGBgYHCAgJCQkKCwsLCwsLCwwMDAwMDQ0NDQ0NDg8PEBEREhISEhISExMTExQUFBUWFhYXFxcXFxcXFxgYGRoaGhobHBwcHR0dHR4eHx8fICEhIiMjIyQkJA==",
          "dtype": "i1"
         },
         "yaxis": "y"
        },
        {
         "hovertemplate": "run_id=4<br>trial=%{x}<br>cumulative_reward=%{y}<extra></extra>",
         "legendgroup": "4",
         "line": {
          "color": "#FF6692",
          "dash": "solid"
         },
         "marker": {
          "symbol": "circle"
         },
         "mode": "lines",
         "name": "4",
         "showlegend": true,
         "type": "scattergl",
         "x": {
          "bdata": "AAECAwQFBgcICQoLDA0ODxAREhMUFRYXGBkaGxwdHh8gISIjJCUmJygpKissLS4vMDEyMzQ1Njc4OTo7PD0+P0BBQkNERUZHSElKS0xNTk9QUVJTVFVWV1hZWltcXV5fYGFiYw==",
          "dtype": "i1"
         },
         "xaxis": "x",
         "y": {
          "bdata": "AAECAwQFBQYHCAkJCgsLCwsMDA0NDg8QEBARERISExQUFRYXGBkaGhscHR4fICEhISIjIyMkJSYnKCgpKioqKisrLCwtLi4uLzAxMjIyMzQ0NTY2Njc4OTo6Ozw8PD09Pj4/Pw==",
          "dtype": "i1"
         },
         "yaxis": "y"
        },
        {
         "hovertemplate": "run_id=19<br>trial=%{x}<br>cumulative_reward=%{y}<extra></extra>",
         "legendgroup": "19",
         "line": {
          "color": "#B6E880",
          "dash": "solid"
         },
         "marker": {
          "symbol": "circle"
         },
         "mode": "lines",
         "name": "19",
         "showlegend": true,
         "type": "scattergl",
         "x": {
          "bdata": "AAECAwQFBgcICQoLDA0ODxAREhMUFRYXGBkaGxwdHh8gISIjJCUmJygpKissLS4vMDEyMzQ1Njc4OTo7PD0+P0BBQkNERUZHSElKS0xNTk9QUVJTVFVWV1hZWltcXV5fYGFiYw==",
          "dtype": "i1"
         },
         "xaxis": "x",
         "y": {
          "bdata": "AQICAgMEBAQEBAUFBQUGBwgICAgJCQkJCQoLCwsMDAwMDAwMDQ0ODg4ODg8PEBAREhITExQVFhcYGRkaGhsbGxsbGxwdHR4eHyAhIiMkJSYmJicoKSorLC0uLzAxMjMzMzQ0NQ==",
          "dtype": "i1"
         },
         "yaxis": "y"
        },
        {
         "hovertemplate": "run_id=13<br>trial=%{x}<br>cumulative_reward=%{y}<extra></extra>",
         "legendgroup": "13",
         "line": {
          "color": "#FF97FF",
          "dash": "solid"
         },
         "marker": {
          "symbol": "circle"
         },
         "mode": "lines",
         "name": "13",
         "showlegend": true,
         "type": "scattergl",
         "x": {
          "bdata": "AAECAwQFBgcICQoLDA0ODxAREhMUFRYXGBkaGxwdHh8gISIjJCUmJygpKissLS4vMDEyMzQ1Njc4OTo7PD0+P0BBQkNERUZHSElKS0xNTk9QUVJTVFVWV1hZWltcXV5fYGFiYw==",
          "dtype": "i1"
         },
         "xaxis": "x",
         "y": {
          "bdata": "AQICAgIDAwMEBAUGBgcICAgICQkKCwsLDAwMDAwMDQ4PEBERERESEhISEhMUFRUWFhcYGBkaGxwdHh8gICEiIyQlJSYnKCkqKisrKywtLi4vMDAwMTExMjM0NDU2Njc3ODk6Ow==",
          "dtype": "i1"
         },
         "yaxis": "y"
        },
        {
         "hovertemplate": "run_id=7<br>trial=%{x}<br>cumulative_reward=%{y}<extra></extra>",
         "legendgroup": "7",
         "line": {
          "color": "#FECB52",
          "dash": "solid"
         },
         "marker": {
          "symbol": "circle"
         },
         "mode": "lines",
         "name": "7",
         "showlegend": true,
         "type": "scattergl",
         "x": {
          "bdata": "AAECAwQFBgcICQoLDA0ODxAREhMUFRYXGBkaGxwdHh8gISIjJCUmJygpKissLS4vMDEyMzQ1Njc4OTo7PD0+P0BBQkNERUZHSElKS0xNTk9QUVJTVFVWV1hZWltcXV5fYGFiYw==",
          "dtype": "i1"
         },
         "xaxis": "x",
         "y": {
          "bdata": "AQECAgMEBQUGBgcHBwgICAgICQkJCgoKCgsMDA0NDg4ODw8PEBAQEBAQEBERERERERITFBQVFhcXGBgYGBgZGRoaGhoaGhscHB0dHR4eHh4fICAhISEiIyQkJCUmJicoKCgoKQ==",
          "dtype": "i1"
         },
         "yaxis": "y"
        },
        {
         "hovertemplate": "run_id=11<br>trial=%{x}<br>cumulative_reward=%{y}<extra></extra>",
         "legendgroup": "11",
         "line": {
          "color": "#636efa",
          "dash": "solid"
         },
         "marker": {
          "symbol": "circle"
         },
         "mode": "lines",
         "name": "11",
         "showlegend": true,
         "type": "scattergl",
         "x": {
          "bdata": "AAECAwQFBgcICQoLDA0ODxAREhMUFRYXGBkaGxwdHh8gISIjJCUmJygpKissLS4vMDEyMzQ1Njc4OTo7PD0+P0BBQkNERUZHSElKS0xNTk9QUVJTVFVWV1hZWltcXV5fYGFiYw==",
          "dtype": "i1"
         },
         "xaxis": "x",
         "y": {
          "bdata": "AQECAgMDBAUGBgYHCAkJCgsMDQ4PEBERERITExMUFBQVFRYWFxcYGBgYGBgZGhsbGxscHR0dHR4eHx8fHyAgISEhIiMjIyQlJSUlJicoKCgpKSkpKiorKywsLCwtLi8wMDAxMQ==",
          "dtype": "i1"
         },
         "yaxis": "y"
        },
        {
         "hovertemplate": "run_id=12<br>trial=%{x}<br>cumulative_reward=%{y}<extra></extra>",
         "legendgroup": "12",
         "line": {
          "color": "#EF553B",
          "dash": "solid"
         },
         "marker": {
          "symbol": "circle"
         },
         "mode": "lines",
         "name": "12",
         "showlegend": true,
         "type": "scattergl",
         "x": {
          "bdata": "AAECAwQFBgcICQoLDA0ODxAREhMUFRYXGBkaGxwdHh8gISIjJCUmJygpKissLS4vMDEyMzQ1Njc4OTo7PD0+P0BBQkNERUZHSElKS0xNTk9QUVJTVFVWV1hZWltcXV5fYGFiYw==",
          "dtype": "i1"
         },
         "xaxis": "x",
         "y": {
          "bdata": "AAAAAQECAgICAwQEBAUGBgcICQkJCQkKCgsMDAwMDAwMDQ4PDw8QEBAREREREhMUFRUWFxcXFxgYGBgZGRkZGRoaGxsbHB0eHh8fHx8gISEiIiIjIyQkJSUlJiYmJiYmJycoKA==",
          "dtype": "i1"
         },
         "yaxis": "y"
        },
        {
         "hovertemplate": "run_id=17<br>trial=%{x}<br>cumulative_reward=%{y}<extra></extra>",
         "legendgroup": "17",
         "line": {
          "color": "#00cc96",
          "dash": "solid"
         },
         "marker": {
          "symbol": "circle"
         },
         "mode": "lines",
         "name": "17",
         "showlegend": true,
         "type": "scattergl",
         "x": {
          "bdata": "AAECAwQFBgcICQoLDA0ODxAREhMUFRYXGBkaGxwdHh8gISIjJCUmJygpKissLS4vMDEyMzQ1Njc4OTo7PD0+P0BBQkNERUZHSElKS0xNTk9QUVJTVFVWV1hZWltcXV5fYGFiYw==",
          "dtype": "i1"
         },
         "xaxis": "x",
         "y": {
          "bdata": "AAABAgICAgICAwMEBAQEBAUGBgcHCAgICQoLDAwMDQ0ODw8PEBAQEBESExMTFBUVFhcXGBgYGRoaGhscHR4fHyAhIiMjJCQlJiYnJygpKissLC0uLi8wMTIzMzQ1NTY3ODg5OQ==",
          "dtype": "i1"
         },
         "yaxis": "y"
        },
        {
         "hovertemplate": "run_id=9<br>trial=%{x}<br>cumulative_reward=%{y}<extra></extra>",
         "legendgroup": "9",
         "line": {
          "color": "#ab63fa",
          "dash": "solid"
         },
         "marker": {
          "symbol": "circle"
         },
         "mode": "lines",
         "name": "9",
         "showlegend": true,
         "type": "scattergl",
         "x": {
          "bdata": "AAECAwQFBgcICQoLDA0ODxAREhMUFRYXGBkaGxwdHh8gISIjJCUmJygpKissLS4vMDEyMzQ1Njc4OTo7PD0+P0BBQkNERUZHSElKS0xNTk9QUVJTVFVWV1hZWltcXV5fYGFiYw==",
          "dtype": "i1"
         },
         "xaxis": "x",
         "y": {
          "bdata": "AQEBAgMEBQYGBwcHBwgJCQkKCwsLDA0ODxAQEBAQEBAQERITExMTExQUFRUWFhYWFxcXFxcYGBgYGBkZGhsbGxscHBwcHR4eHh8gISEhIiIjIyMkJCQkJCQkJCQlJicoKCgoKA==",
          "dtype": "i1"
         },
         "yaxis": "y"
        },
        {
         "hovertemplate": "run_id=5<br>trial=%{x}<br>cumulative_reward=%{y}<extra></extra>",
         "legendgroup": "5",
         "line": {
          "color": "#FFA15A",
          "dash": "solid"
         },
         "marker": {
          "symbol": "circle"
         },
         "mode": "lines",
         "name": "5",
         "showlegend": true,
         "type": "scattergl",
         "x": {
          "bdata": "AAECAwQFBgcICQoLDA0ODxAREhMUFRYXGBkaGxwdHh8gISIjJCUmJygpKissLS4vMDEyMzQ1Njc4OTo7PD0+P0BBQkNERUZHSElKS0xNTk9QUVJTVFVWV1hZWltcXV5fYGFiYw==",
          "dtype": "i1"
         },
         "xaxis": "x",
         "y": {
          "bdata": "AAECAwQEBQUGBwcICAkKCgoLDA0NDQ4ODw8QEBEREhISEhITFBQUFRUWFhcYGRkZGhsbHB0dHR0dHh4fHyAhIiIiIyQlJiYmJycoKSoqKywtLS0uLzAxMTEyMjM0NTY3Nzc3OA==",
          "dtype": "i1"
         },
         "yaxis": "y"
        },
        {
         "hovertemplate": "run_id=16<br>trial=%{x}<br>cumulative_reward=%{y}<extra></extra>",
         "legendgroup": "16",
         "line": {
          "color": "#19d3f3",
          "dash": "solid"
         },
         "marker": {
          "symbol": "circle"
         },
         "mode": "lines",
         "name": "16",
         "showlegend": true,
         "type": "scattergl",
         "x": {
          "bdata": "AAECAwQFBgcICQoLDA0ODxAREhMUFRYXGBkaGxwdHh8gISIjJCUmJygpKissLS4vMDEyMzQ1Njc4OTo7PD0+P0BBQkNERUZHSElKS0xNTk9QUVJTVFVWV1hZWltcXV5fYGFiYw==",
          "dtype": "i1"
         },
         "xaxis": "x",
         "y": {
          "bdata": "AQIDAwMEBQYGBgYGBwcICQoLDA0ODw8QERERERESEhISEhISEhMTExMUFRYWFxgZGRoaGxsbGxsbGxwdHh8gICEiIyQlJSYnKCkqKissLC0uLi4vLy8vMDEyMjIzNDU1NjY2Ng==",
          "dtype": "i1"
         },
         "yaxis": "y"
        },
        {
         "hovertemplate": "run_id=10<br>trial=%{x}<br>cumulative_reward=%{y}<extra></extra>",
         "legendgroup": "10",
         "line": {
          "color": "#FF6692",
          "dash": "solid"
         },
         "marker": {
          "symbol": "circle"
         },
         "mode": "lines",
         "name": "10",
         "showlegend": true,
         "type": "scattergl",
         "x": {
          "bdata": "AAECAwQFBgcICQoLDA0ODxAREhMUFRYXGBkaGxwdHh8gISIjJCUmJygpKissLS4vMDEyMzQ1Njc4OTo7PD0+P0BBQkNERUZHSElKS0xNTk9QUVJTVFVWV1hZWltcXV5fYGFiYw==",
          "dtype": "i1"
         },
         "xaxis": "x",
         "y": {
          "bdata": "AAAAAAABAQICAwMDBAQFBQUFBQYGBwcHCAkJCQkKCgoKCgsLCwwNDg8QERERERESExMTFBQUFBUWFhYWFhcYGBkaGxscHR4fHyAgICAhISIjIyMjIyMjIyMjIyMjIyMkJCUmJg==",
          "dtype": "i1"
         },
         "yaxis": "y"
        },
        {
         "hovertemplate": "run_id=1<br>trial=%{x}<br>cumulative_reward=%{y}<extra></extra>",
         "legendgroup": "1",
         "line": {
          "color": "#B6E880",
          "dash": "solid"
         },
         "marker": {
          "symbol": "circle"
         },
         "mode": "lines",
         "name": "1",
         "showlegend": true,
         "type": "scattergl",
         "x": {
          "bdata": "AAECAwQFBgcICQoLDA0ODxAREhMUFRYXGBkaGxwdHh8gISIjJCUmJygpKissLS4vMDEyMzQ1Njc4OTo7PD0+P0BBQkNERUZHSElKS0xNTk9QUVJTVFVWV1hZWltcXV5fYGFiYw==",
          "dtype": "i1"
         },
         "xaxis": "x",
         "y": {
          "bdata": "AQEBAQEBAQEBAQEBAQECAwMDBAQEBQUGBwgICAkKCwsLDAwMDAwMDAwNDQ4PDw8PEBERERESExQUFBQVFRYXGBgYGRoaGhoaGxwdHR0dHh4fHx8gISIjIyMkJSYmJiYnKCkqKg==",
          "dtype": "i1"
         },
         "yaxis": "y"
        },
        {
         "hovertemplate": "run_id=0<br>trial=%{x}<br>cumulative_reward=%{y}<extra></extra>",
         "legendgroup": "0",
         "line": {
          "color": "#FF97FF",
          "dash": "solid"
         },
         "marker": {
          "symbol": "circle"
         },
         "mode": "lines",
         "name": "0",
         "showlegend": true,
         "type": "scattergl",
         "x": {
          "bdata": "AAECAwQFBgcICQoLDA0ODxAREhMUFRYXGBkaGxwdHh8gISIjJCUmJygpKissLS4vMDEyMzQ1Njc4OTo7PD0+P0BBQkNERUZHSElKS0xNTk9QUVJTVFVWV1hZWltcXV5fYGFiYw==",
          "dtype": "i1"
         },
         "xaxis": "x",
         "y": {
          "bdata": "AAABAgICAgMDAwQFBgYHBwcICQoKCwsLDAwMDQ4ODw8PDw8PEBERERITExMUFBQVFRYWFhYWFxgYGRoaGhsbGxwcHBwdHR0dHR0dHh4eHh8fHyAhISEiIiMjJCUlJicnKCgpKg==",
          "dtype": "i1"
         },
         "yaxis": "y"
        }
       ],
       "layout": {
        "legend": {
         "title": {
          "text": "run_id"
         },
         "tracegroupgap": 0
        },
        "margin": {
         "t": 60
        },
        "template": {
         "data": {
          "bar": [
           {
            "error_x": {
             "color": "#2a3f5f"
            },
            "error_y": {
             "color": "#2a3f5f"
            },
            "marker": {
             "line": {
              "color": "#E5ECF6",
              "width": 0.5
             },
             "pattern": {
              "fillmode": "overlay",
              "size": 10,
              "solidity": 0.2
             }
            },
            "type": "bar"
           }
          ],
          "barpolar": [
           {
            "marker": {
             "line": {
              "color": "#E5ECF6",
              "width": 0.5
             },
             "pattern": {
              "fillmode": "overlay",
              "size": 10,
              "solidity": 0.2
             }
            },
            "type": "barpolar"
           }
          ],
          "carpet": [
           {
            "aaxis": {
             "endlinecolor": "#2a3f5f",
             "gridcolor": "white",
             "linecolor": "white",
             "minorgridcolor": "white",
             "startlinecolor": "#2a3f5f"
            },
            "baxis": {
             "endlinecolor": "#2a3f5f",
             "gridcolor": "white",
             "linecolor": "white",
             "minorgridcolor": "white",
             "startlinecolor": "#2a3f5f"
            },
            "type": "carpet"
           }
          ],
          "choropleth": [
           {
            "colorbar": {
             "outlinewidth": 0,
             "ticks": ""
            },
            "type": "choropleth"
           }
          ],
          "contour": [
           {
            "colorbar": {
             "outlinewidth": 0,
             "ticks": ""
            },
            "colorscale": [
             [
              0,
              "#0d0887"
             ],
             [
              0.1111111111111111,
              "#46039f"
             ],
             [
              0.2222222222222222,
              "#7201a8"
             ],
             [
              0.3333333333333333,
              "#9c179e"
             ],
             [
              0.4444444444444444,
              "#bd3786"
             ],
             [
              0.5555555555555556,
              "#d8576b"
             ],
             [
              0.6666666666666666,
              "#ed7953"
             ],
             [
              0.7777777777777778,
              "#fb9f3a"
             ],
             [
              0.8888888888888888,
              "#fdca26"
             ],
             [
              1,
              "#f0f921"
             ]
            ],
            "type": "contour"
           }
          ],
          "contourcarpet": [
           {
            "colorbar": {
             "outlinewidth": 0,
             "ticks": ""
            },
            "type": "contourcarpet"
           }
          ],
          "heatmap": [
           {
            "colorbar": {
             "outlinewidth": 0,
             "ticks": ""
            },
            "colorscale": [
             [
              0,
              "#0d0887"
             ],
             [
              0.1111111111111111,
              "#46039f"
             ],
             [
              0.2222222222222222,
              "#7201a8"
             ],
             [
              0.3333333333333333,
              "#9c179e"
             ],
             [
              0.4444444444444444,
              "#bd3786"
             ],
             [
              0.5555555555555556,
              "#d8576b"
             ],
             [
              0.6666666666666666,
              "#ed7953"
             ],
             [
              0.7777777777777778,
              "#fb9f3a"
             ],
             [
              0.8888888888888888,
              "#fdca26"
             ],
             [
              1,
              "#f0f921"
             ]
            ],
            "type": "heatmap"
           }
          ],
          "histogram": [
           {
            "marker": {
             "pattern": {
              "fillmode": "overlay",
              "size": 10,
              "solidity": 0.2
             }
            },
            "type": "histogram"
           }
          ],
          "histogram2d": [
           {
            "colorbar": {
             "outlinewidth": 0,
             "ticks": ""
            },
            "colorscale": [
             [
              0,
              "#0d0887"
             ],
             [
              0.1111111111111111,
              "#46039f"
             ],
             [
              0.2222222222222222,
              "#7201a8"
             ],
             [
              0.3333333333333333,
              "#9c179e"
             ],
             [
              0.4444444444444444,
              "#bd3786"
             ],
             [
              0.5555555555555556,
              "#d8576b"
             ],
             [
              0.6666666666666666,
              "#ed7953"
             ],
             [
              0.7777777777777778,
              "#fb9f3a"
             ],
             [
              0.8888888888888888,
              "#fdca26"
             ],
             [
              1,
              "#f0f921"
             ]
            ],
            "type": "histogram2d"
           }
          ],
          "histogram2dcontour": [
           {
            "colorbar": {
             "outlinewidth": 0,
             "ticks": ""
            },
            "colorscale": [
             [
              0,
              "#0d0887"
             ],
             [
              0.1111111111111111,
              "#46039f"
             ],
             [
              0.2222222222222222,
              "#7201a8"
             ],
             [
              0.3333333333333333,
              "#9c179e"
             ],
             [
              0.4444444444444444,
              "#bd3786"
             ],
             [
              0.5555555555555556,
              "#d8576b"
             ],
             [
              0.6666666666666666,
              "#ed7953"
             ],
             [
              0.7777777777777778,
              "#fb9f3a"
             ],
             [
              0.8888888888888888,
              "#fdca26"
             ],
             [
              1,
              "#f0f921"
             ]
            ],
            "type": "histogram2dcontour"
           }
          ],
          "mesh3d": [
           {
            "colorbar": {
             "outlinewidth": 0,
             "ticks": ""
            },
            "type": "mesh3d"
           }
          ],
          "parcoords": [
           {
            "line": {
             "colorbar": {
              "outlinewidth": 0,
              "ticks": ""
             }
            },
            "type": "parcoords"
           }
          ],
          "pie": [
           {
            "automargin": true,
            "type": "pie"
           }
          ],
          "scatter": [
           {
            "fillpattern": {
             "fillmode": "overlay",
             "size": 10,
             "solidity": 0.2
            },
            "type": "scatter"
           }
          ],
          "scatter3d": [
           {
            "line": {
             "colorbar": {
              "outlinewidth": 0,
              "ticks": ""
             }
            },
            "marker": {
             "colorbar": {
              "outlinewidth": 0,
              "ticks": ""
             }
            },
            "type": "scatter3d"
           }
          ],
          "scattercarpet": [
           {
            "marker": {
             "colorbar": {
              "outlinewidth": 0,
              "ticks": ""
             }
            },
            "type": "scattercarpet"
           }
          ],
          "scattergeo": [
           {
            "marker": {
             "colorbar": {
              "outlinewidth": 0,
              "ticks": ""
             }
            },
            "type": "scattergeo"
           }
          ],
          "scattergl": [
           {
            "marker": {
             "colorbar": {
              "outlinewidth": 0,
              "ticks": ""
             }
            },
            "type": "scattergl"
           }
          ],
          "scattermap": [
           {
            "marker": {
             "colorbar": {
              "outlinewidth": 0,
              "ticks": ""
             }
            },
            "type": "scattermap"
           }
          ],
          "scattermapbox": [
           {
            "marker": {
             "colorbar": {
              "outlinewidth": 0,
              "ticks": ""
             }
            },
            "type": "scattermapbox"
           }
          ],
          "scatterpolar": [
           {
            "marker": {
             "colorbar": {
              "outlinewidth": 0,
              "ticks": ""
             }
            },
            "type": "scatterpolar"
           }
          ],
          "scatterpolargl": [
           {
            "marker": {
             "colorbar": {
              "outlinewidth": 0,
              "ticks": ""
             }
            },
            "type": "scatterpolargl"
           }
          ],
          "scatterternary": [
           {
            "marker": {
             "colorbar": {
              "outlinewidth": 0,
              "ticks": ""
             }
            },
            "type": "scatterternary"
           }
          ],
          "surface": [
           {
            "colorbar": {
             "outlinewidth": 0,
             "ticks": ""
            },
            "colorscale": [
             [
              0,
              "#0d0887"
             ],
             [
              0.1111111111111111,
              "#46039f"
             ],
             [
              0.2222222222222222,
              "#7201a8"
             ],
             [
              0.3333333333333333,
              "#9c179e"
             ],
             [
              0.4444444444444444,
              "#bd3786"
             ],
             [
              0.5555555555555556,
              "#d8576b"
             ],
             [
              0.6666666666666666,
              "#ed7953"
             ],
             [
              0.7777777777777778,
              "#fb9f3a"
             ],
             [
              0.8888888888888888,
              "#fdca26"
             ],
             [
              1,
              "#f0f921"
             ]
            ],
            "type": "surface"
           }
          ],
          "table": [
           {
            "cells": {
             "fill": {
              "color": "#EBF0F8"
             },
             "line": {
              "color": "white"
             }
            },
            "header": {
             "fill": {
              "color": "#C8D4E3"
             },
             "line": {
              "color": "white"
             }
            },
            "type": "table"
           }
          ]
         },
         "layout": {
          "annotationdefaults": {
           "arrowcolor": "#2a3f5f",
           "arrowhead": 0,
           "arrowwidth": 1
          },
          "autotypenumbers": "strict",
          "coloraxis": {
           "colorbar": {
            "outlinewidth": 0,
            "ticks": ""
           }
          },
          "colorscale": {
           "diverging": [
            [
             0,
             "#8e0152"
            ],
            [
             0.1,
             "#c51b7d"
            ],
            [
             0.2,
             "#de77ae"
            ],
            [
             0.3,
             "#f1b6da"
            ],
            [
             0.4,
             "#fde0ef"
            ],
            [
             0.5,
             "#f7f7f7"
            ],
            [
             0.6,
             "#e6f5d0"
            ],
            [
             0.7,
             "#b8e186"
            ],
            [
             0.8,
             "#7fbc41"
            ],
            [
             0.9,
             "#4d9221"
            ],
            [
             1,
             "#276419"
            ]
           ],
           "sequential": [
            [
             0,
             "#0d0887"
            ],
            [
             0.1111111111111111,
             "#46039f"
            ],
            [
             0.2222222222222222,
             "#7201a8"
            ],
            [
             0.3333333333333333,
             "#9c179e"
            ],
            [
             0.4444444444444444,
             "#bd3786"
            ],
            [
             0.5555555555555556,
             "#d8576b"
            ],
            [
             0.6666666666666666,
             "#ed7953"
            ],
            [
             0.7777777777777778,
             "#fb9f3a"
            ],
            [
             0.8888888888888888,
             "#fdca26"
            ],
            [
             1,
             "#f0f921"
            ]
           ],
           "sequentialminus": [
            [
             0,
             "#0d0887"
            ],
            [
             0.1111111111111111,
             "#46039f"
            ],
            [
             0.2222222222222222,
             "#7201a8"
            ],
            [
             0.3333333333333333,
             "#9c179e"
            ],
            [
             0.4444444444444444,
             "#bd3786"
            ],
            [
             0.5555555555555556,
             "#d8576b"
            ],
            [
             0.6666666666666666,
             "#ed7953"
            ],
            [
             0.7777777777777778,
             "#fb9f3a"
            ],
            [
             0.8888888888888888,
             "#fdca26"
            ],
            [
             1,
             "#f0f921"
            ]
           ]
          },
          "colorway": [
           "#636efa",
           "#EF553B",
           "#00cc96",
           "#ab63fa",
           "#FFA15A",
           "#19d3f3",
           "#FF6692",
           "#B6E880",
           "#FF97FF",
           "#FECB52"
          ],
          "font": {
           "color": "#2a3f5f"
          },
          "geo": {
           "bgcolor": "white",
           "lakecolor": "white",
           "landcolor": "#E5ECF6",
           "showlakes": true,
           "showland": true,
           "subunitcolor": "white"
          },
          "hoverlabel": {
           "align": "left"
          },
          "hovermode": "closest",
          "mapbox": {
           "style": "light"
          },
          "paper_bgcolor": "white",
          "plot_bgcolor": "#E5ECF6",
          "polar": {
           "angularaxis": {
            "gridcolor": "white",
            "linecolor": "white",
            "ticks": ""
           },
           "bgcolor": "#E5ECF6",
           "radialaxis": {
            "gridcolor": "white",
            "linecolor": "white",
            "ticks": ""
           }
          },
          "scene": {
           "xaxis": {
            "backgroundcolor": "#E5ECF6",
            "gridcolor": "white",
            "gridwidth": 2,
            "linecolor": "white",
            "showbackground": true,
            "ticks": "",
            "zerolinecolor": "white"
           },
           "yaxis": {
            "backgroundcolor": "#E5ECF6",
            "gridcolor": "white",
            "gridwidth": 2,
            "linecolor": "white",
            "showbackground": true,
            "ticks": "",
            "zerolinecolor": "white"
           },
           "zaxis": {
            "backgroundcolor": "#E5ECF6",
            "gridcolor": "white",
            "gridwidth": 2,
            "linecolor": "white",
            "showbackground": true,
            "ticks": "",
            "zerolinecolor": "white"
           }
          },
          "shapedefaults": {
           "line": {
            "color": "#2a3f5f"
           }
          },
          "ternary": {
           "aaxis": {
            "gridcolor": "white",
            "linecolor": "white",
            "ticks": ""
           },
           "baxis": {
            "gridcolor": "white",
            "linecolor": "white",
            "ticks": ""
           },
           "bgcolor": "#E5ECF6",
           "caxis": {
            "gridcolor": "white",
            "linecolor": "white",
            "ticks": ""
           }
          },
          "title": {
           "x": 0.05
          },
          "xaxis": {
           "automargin": true,
           "gridcolor": "white",
           "linecolor": "white",
           "ticks": "",
           "title": {
            "standoff": 15
           },
           "zerolinecolor": "white",
           "zerolinewidth": 2
          },
          "yaxis": {
           "automargin": true,
           "gridcolor": "white",
           "linecolor": "white",
           "ticks": "",
           "title": {
            "standoff": 15
           },
           "zerolinecolor": "white",
           "zerolinewidth": 2
          }
         }
        },
        "xaxis": {
         "anchor": "y",
         "domain": [
          0,
          1
         ],
         "title": {
          "text": "trial"
         }
        },
        "yaxis": {
         "anchor": "x",
         "domain": [
          0,
          1
         ],
         "title": {
          "text": "cumulative_reward"
         }
        }
       }
      }
     },
     "metadata": {},
     "output_type": "display_data"
    }
   ],
   "source": [
    "px.line(df, x='trial', y='cumulative_reward', color='run_id')"
   ]
  },
  {
   "cell_type": "code",
   "execution_count": 11,
   "metadata": {},
   "outputs": [
    {
     "data": {
      "text/html": [
       "<div>\n",
       "<style scoped>\n",
       "    .dataframe tbody tr th:only-of-type {\n",
       "        vertical-align: middle;\n",
       "    }\n",
       "\n",
       "    .dataframe tbody tr th {\n",
       "        vertical-align: top;\n",
       "    }\n",
       "\n",
       "    .dataframe thead th {\n",
       "        text-align: right;\n",
       "    }\n",
       "</style>\n",
       "<table border=\"1\" class=\"dataframe\">\n",
       "  <thead>\n",
       "    <tr style=\"text-align: right;\">\n",
       "      <th></th>\n",
       "      <th>trial</th>\n",
       "      <th>arm_name</th>\n",
       "      <th>arm_idx</th>\n",
       "      <th>reward</th>\n",
       "      <th>cumulative_reward</th>\n",
       "      <th>system_prompt</th>\n",
       "      <th>user_prompt</th>\n",
       "      <th>raw_prediction</th>\n",
       "      <th>best_arm</th>\n",
       "      <th>cumulative_reward_blue</th>\n",
       "      <th>...</th>\n",
       "      <th>cumulative_occurrence_red</th>\n",
       "      <th>cumulative_occurrence_green</th>\n",
       "      <th>cumulative_occurrence_yellow</th>\n",
       "      <th>cumulative_occurrence_purple</th>\n",
       "      <th>cumulative_occurrence_orange</th>\n",
       "      <th>cumulative_occurrence_brown</th>\n",
       "      <th>cumulative_occurrence_pink</th>\n",
       "      <th>cumulative_occurrence_black</th>\n",
       "      <th>cumulative_occurrence_white</th>\n",
       "      <th>run_id</th>\n",
       "    </tr>\n",
       "  </thead>\n",
       "  <tbody>\n",
       "    <tr>\n",
       "      <th>0</th>\n",
       "      <td>0</td>\n",
       "      <td>blue</td>\n",
       "      <td>0</td>\n",
       "      <td>1</td>\n",
       "      <td>1</td>\n",
       "      <td>You are a bandit algorithm in a room with 10 b...</td>\n",
       "      <td>So far you have played 0 times with your past ...</td>\n",
       "      <td>Since this is the first time step and we have ...</td>\n",
       "      <td>yellow</td>\n",
       "      <td>1</td>\n",
       "      <td>...</td>\n",
       "      <td>0</td>\n",
       "      <td>0</td>\n",
       "      <td>0</td>\n",
       "      <td>0</td>\n",
       "      <td>0</td>\n",
       "      <td>0</td>\n",
       "      <td>0</td>\n",
       "      <td>0</td>\n",
       "      <td>0</td>\n",
       "      <td>7</td>\n",
       "    </tr>\n",
       "    <tr>\n",
       "      <th>1</th>\n",
       "      <td>1</td>\n",
       "      <td>green</td>\n",
       "      <td>2</td>\n",
       "      <td>0</td>\n",
       "      <td>1</td>\n",
       "      <td>You are a bandit algorithm in a room with 10 b...</td>\n",
       "      <td>So far you have played 1 times with your past ...</td>\n",
       "      <td>Given that we have only pressed the blue butto...</td>\n",
       "      <td>yellow</td>\n",
       "      <td>1</td>\n",
       "      <td>...</td>\n",
       "      <td>0</td>\n",
       "      <td>1</td>\n",
       "      <td>0</td>\n",
       "      <td>0</td>\n",
       "      <td>0</td>\n",
       "      <td>0</td>\n",
       "      <td>0</td>\n",
       "      <td>0</td>\n",
       "      <td>0</td>\n",
       "      <td>7</td>\n",
       "    </tr>\n",
       "    <tr>\n",
       "      <th>2</th>\n",
       "      <td>2</td>\n",
       "      <td>blue</td>\n",
       "      <td>0</td>\n",
       "      <td>1</td>\n",
       "      <td>2</td>\n",
       "      <td>You are a bandit algorithm in a room with 10 b...</td>\n",
       "      <td>So far you have played 2 times with your past ...</td>\n",
       "      <td>Given the information, we have only pressed th...</td>\n",
       "      <td>yellow</td>\n",
       "      <td>2</td>\n",
       "      <td>...</td>\n",
       "      <td>0</td>\n",
       "      <td>1</td>\n",
       "      <td>0</td>\n",
       "      <td>0</td>\n",
       "      <td>0</td>\n",
       "      <td>0</td>\n",
       "      <td>0</td>\n",
       "      <td>0</td>\n",
       "      <td>0</td>\n",
       "      <td>7</td>\n",
       "    </tr>\n",
       "    <tr>\n",
       "      <th>3</th>\n",
       "      <td>3</td>\n",
       "      <td>blue</td>\n",
       "      <td>0</td>\n",
       "      <td>0</td>\n",
       "      <td>2</td>\n",
       "      <td>You are a bandit algorithm in a room with 10 b...</td>\n",
       "      <td>So far you have played 3 times with your past ...</td>\n",
       "      <td>To maximize the total reward over the 100 time...</td>\n",
       "      <td>yellow</td>\n",
       "      <td>2</td>\n",
       "      <td>...</td>\n",
       "      <td>0</td>\n",
       "      <td>1</td>\n",
       "      <td>0</td>\n",
       "      <td>0</td>\n",
       "      <td>0</td>\n",
       "      <td>0</td>\n",
       "      <td>0</td>\n",
       "      <td>0</td>\n",
       "      <td>0</td>\n",
       "      <td>7</td>\n",
       "    </tr>\n",
       "    <tr>\n",
       "      <th>4</th>\n",
       "      <td>4</td>\n",
       "      <td>blue</td>\n",
       "      <td>0</td>\n",
       "      <td>1</td>\n",
       "      <td>3</td>\n",
       "      <td>You are a bandit algorithm in a room with 10 b...</td>\n",
       "      <td>So far you have played 4 times with your past ...</td>\n",
       "      <td>To maximize the total reward over the 100 time...</td>\n",
       "      <td>yellow</td>\n",
       "      <td>3</td>\n",
       "      <td>...</td>\n",
       "      <td>0</td>\n",
       "      <td>1</td>\n",
       "      <td>0</td>\n",
       "      <td>0</td>\n",
       "      <td>0</td>\n",
       "      <td>0</td>\n",
       "      <td>0</td>\n",
       "      <td>0</td>\n",
       "      <td>0</td>\n",
       "      <td>7</td>\n",
       "    </tr>\n",
       "    <tr>\n",
       "      <th>...</th>\n",
       "      <td>...</td>\n",
       "      <td>...</td>\n",
       "      <td>...</td>\n",
       "      <td>...</td>\n",
       "      <td>...</td>\n",
       "      <td>...</td>\n",
       "      <td>...</td>\n",
       "      <td>...</td>\n",
       "      <td>...</td>\n",
       "      <td>...</td>\n",
       "      <td>...</td>\n",
       "      <td>...</td>\n",
       "      <td>...</td>\n",
       "      <td>...</td>\n",
       "      <td>...</td>\n",
       "      <td>...</td>\n",
       "      <td>...</td>\n",
       "      <td>...</td>\n",
       "      <td>...</td>\n",
       "      <td>...</td>\n",
       "      <td>...</td>\n",
       "    </tr>\n",
       "    <tr>\n",
       "      <th>95</th>\n",
       "      <td>95</td>\n",
       "      <td>blue</td>\n",
       "      <td>0</td>\n",
       "      <td>1</td>\n",
       "      <td>40</td>\n",
       "      <td>You are a bandit algorithm in a room with 10 b...</td>\n",
       "      <td>So far you have played 95 times with your past...</td>\n",
       "      <td>Given the summary of past choices and rewards,...</td>\n",
       "      <td>yellow</td>\n",
       "      <td>34</td>\n",
       "      <td>...</td>\n",
       "      <td>2</td>\n",
       "      <td>3</td>\n",
       "      <td>3</td>\n",
       "      <td>1</td>\n",
       "      <td>6</td>\n",
       "      <td>1</td>\n",
       "      <td>6</td>\n",
       "      <td>3</td>\n",
       "      <td>1</td>\n",
       "      <td>7</td>\n",
       "    </tr>\n",
       "    <tr>\n",
       "      <th>96</th>\n",
       "      <td>96</td>\n",
       "      <td>blue</td>\n",
       "      <td>0</td>\n",
       "      <td>0</td>\n",
       "      <td>40</td>\n",
       "      <td>You are a bandit algorithm in a room with 10 b...</td>\n",
       "      <td>So far you have played 96 times with your past...</td>\n",
       "      <td>Given the data, the **blue button** has the hi...</td>\n",
       "      <td>yellow</td>\n",
       "      <td>34</td>\n",
       "      <td>...</td>\n",
       "      <td>2</td>\n",
       "      <td>3</td>\n",
       "      <td>3</td>\n",
       "      <td>1</td>\n",
       "      <td>6</td>\n",
       "      <td>1</td>\n",
       "      <td>6</td>\n",
       "      <td>3</td>\n",
       "      <td>1</td>\n",
       "      <td>7</td>\n",
       "    </tr>\n",
       "    <tr>\n",
       "      <th>97</th>\n",
       "      <td>97</td>\n",
       "      <td>blue</td>\n",
       "      <td>0</td>\n",
       "      <td>0</td>\n",
       "      <td>40</td>\n",
       "      <td>You are a bandit algorithm in a room with 10 b...</td>\n",
       "      <td>So far you have played 97 times with your past...</td>\n",
       "      <td>Given the data, the **blue button** has the hi...</td>\n",
       "      <td>yellow</td>\n",
       "      <td>34</td>\n",
       "      <td>...</td>\n",
       "      <td>2</td>\n",
       "      <td>3</td>\n",
       "      <td>3</td>\n",
       "      <td>1</td>\n",
       "      <td>6</td>\n",
       "      <td>1</td>\n",
       "      <td>6</td>\n",
       "      <td>3</td>\n",
       "      <td>1</td>\n",
       "      <td>7</td>\n",
       "    </tr>\n",
       "    <tr>\n",
       "      <th>98</th>\n",
       "      <td>98</td>\n",
       "      <td>blue</td>\n",
       "      <td>0</td>\n",
       "      <td>0</td>\n",
       "      <td>40</td>\n",
       "      <td>You are a bandit algorithm in a room with 10 b...</td>\n",
       "      <td>So far you have played 98 times with your past...</td>\n",
       "      <td>Given the data, the **blue button** has the hi...</td>\n",
       "      <td>yellow</td>\n",
       "      <td>34</td>\n",
       "      <td>...</td>\n",
       "      <td>2</td>\n",
       "      <td>3</td>\n",
       "      <td>3</td>\n",
       "      <td>1</td>\n",
       "      <td>6</td>\n",
       "      <td>1</td>\n",
       "      <td>6</td>\n",
       "      <td>3</td>\n",
       "      <td>1</td>\n",
       "      <td>7</td>\n",
       "    </tr>\n",
       "    <tr>\n",
       "      <th>99</th>\n",
       "      <td>99</td>\n",
       "      <td>blue</td>\n",
       "      <td>0</td>\n",
       "      <td>1</td>\n",
       "      <td>41</td>\n",
       "      <td>You are a bandit algorithm in a room with 10 b...</td>\n",
       "      <td>So far you have played 99 times with your past...</td>\n",
       "      <td>Given the data, the **blue button** has the hi...</td>\n",
       "      <td>yellow</td>\n",
       "      <td>35</td>\n",
       "      <td>...</td>\n",
       "      <td>2</td>\n",
       "      <td>3</td>\n",
       "      <td>3</td>\n",
       "      <td>1</td>\n",
       "      <td>6</td>\n",
       "      <td>1</td>\n",
       "      <td>6</td>\n",
       "      <td>3</td>\n",
       "      <td>1</td>\n",
       "      <td>7</td>\n",
       "    </tr>\n",
       "  </tbody>\n",
       "</table>\n",
       "<p>100 rows × 30 columns</p>\n",
       "</div>"
      ],
      "text/plain": [
       "    trial arm_name  arm_idx  reward  cumulative_reward  \\\n",
       "0       0     blue        0       1                  1   \n",
       "1       1    green        2       0                  1   \n",
       "2       2     blue        0       1                  2   \n",
       "3       3     blue        0       0                  2   \n",
       "4       4     blue        0       1                  3   \n",
       "..    ...      ...      ...     ...                ...   \n",
       "95     95     blue        0       1                 40   \n",
       "96     96     blue        0       0                 40   \n",
       "97     97     blue        0       0                 40   \n",
       "98     98     blue        0       0                 40   \n",
       "99     99     blue        0       1                 41   \n",
       "\n",
       "                                        system_prompt  \\\n",
       "0   You are a bandit algorithm in a room with 10 b...   \n",
       "1   You are a bandit algorithm in a room with 10 b...   \n",
       "2   You are a bandit algorithm in a room with 10 b...   \n",
       "3   You are a bandit algorithm in a room with 10 b...   \n",
       "4   You are a bandit algorithm in a room with 10 b...   \n",
       "..                                                ...   \n",
       "95  You are a bandit algorithm in a room with 10 b...   \n",
       "96  You are a bandit algorithm in a room with 10 b...   \n",
       "97  You are a bandit algorithm in a room with 10 b...   \n",
       "98  You are a bandit algorithm in a room with 10 b...   \n",
       "99  You are a bandit algorithm in a room with 10 b...   \n",
       "\n",
       "                                          user_prompt  \\\n",
       "0   So far you have played 0 times with your past ...   \n",
       "1   So far you have played 1 times with your past ...   \n",
       "2   So far you have played 2 times with your past ...   \n",
       "3   So far you have played 3 times with your past ...   \n",
       "4   So far you have played 4 times with your past ...   \n",
       "..                                                ...   \n",
       "95  So far you have played 95 times with your past...   \n",
       "96  So far you have played 96 times with your past...   \n",
       "97  So far you have played 97 times with your past...   \n",
       "98  So far you have played 98 times with your past...   \n",
       "99  So far you have played 99 times with your past...   \n",
       "\n",
       "                                       raw_prediction best_arm  \\\n",
       "0   Since this is the first time step and we have ...   yellow   \n",
       "1   Given that we have only pressed the blue butto...   yellow   \n",
       "2   Given the information, we have only pressed th...   yellow   \n",
       "3   To maximize the total reward over the 100 time...   yellow   \n",
       "4   To maximize the total reward over the 100 time...   yellow   \n",
       "..                                                ...      ...   \n",
       "95  Given the summary of past choices and rewards,...   yellow   \n",
       "96  Given the data, the **blue button** has the hi...   yellow   \n",
       "97  Given the data, the **blue button** has the hi...   yellow   \n",
       "98  Given the data, the **blue button** has the hi...   yellow   \n",
       "99  Given the data, the **blue button** has the hi...   yellow   \n",
       "\n",
       "    cumulative_reward_blue  ...  cumulative_occurrence_red  \\\n",
       "0                        1  ...                          0   \n",
       "1                        1  ...                          0   \n",
       "2                        2  ...                          0   \n",
       "3                        2  ...                          0   \n",
       "4                        3  ...                          0   \n",
       "..                     ...  ...                        ...   \n",
       "95                      34  ...                          2   \n",
       "96                      34  ...                          2   \n",
       "97                      34  ...                          2   \n",
       "98                      34  ...                          2   \n",
       "99                      35  ...                          2   \n",
       "\n",
       "    cumulative_occurrence_green  cumulative_occurrence_yellow  \\\n",
       "0                             0                             0   \n",
       "1                             1                             0   \n",
       "2                             1                             0   \n",
       "3                             1                             0   \n",
       "4                             1                             0   \n",
       "..                          ...                           ...   \n",
       "95                            3                             3   \n",
       "96                            3                             3   \n",
       "97                            3                             3   \n",
       "98                            3                             3   \n",
       "99                            3                             3   \n",
       "\n",
       "    cumulative_occurrence_purple  cumulative_occurrence_orange  \\\n",
       "0                              0                             0   \n",
       "1                              0                             0   \n",
       "2                              0                             0   \n",
       "3                              0                             0   \n",
       "4                              0                             0   \n",
       "..                           ...                           ...   \n",
       "95                             1                             6   \n",
       "96                             1                             6   \n",
       "97                             1                             6   \n",
       "98                             1                             6   \n",
       "99                             1                             6   \n",
       "\n",
       "    cumulative_occurrence_brown  cumulative_occurrence_pink  \\\n",
       "0                             0                           0   \n",
       "1                             0                           0   \n",
       "2                             0                           0   \n",
       "3                             0                           0   \n",
       "4                             0                           0   \n",
       "..                          ...                         ...   \n",
       "95                            1                           6   \n",
       "96                            1                           6   \n",
       "97                            1                           6   \n",
       "98                            1                           6   \n",
       "99                            1                           6   \n",
       "\n",
       "    cumulative_occurrence_black  cumulative_occurrence_white  run_id  \n",
       "0                             0                            0       7  \n",
       "1                             0                            0       7  \n",
       "2                             0                            0       7  \n",
       "3                             0                            0       7  \n",
       "4                             0                            0       7  \n",
       "..                          ...                          ...     ...  \n",
       "95                            3                            1       7  \n",
       "96                            3                            1       7  \n",
       "97                            3                            1       7  \n",
       "98                            3                            1       7  \n",
       "99                            3                            1       7  \n",
       "\n",
       "[100 rows x 30 columns]"
      ]
     },
     "execution_count": 11,
     "metadata": {},
     "output_type": "execute_result"
    }
   ],
   "source": [
    "df"
   ]
  },
  {
   "cell_type": "code",
   "execution_count": 12,
   "metadata": {},
   "outputs": [
    {
     "name": "stdout",
     "output_type": "stream",
     "text": [
      "So far you have played 99 times with your past choices and rewards summarized\n",
      "as follows:\n",
      "- blue button: pressed 73 times with average reward 0.4657534246575342\n",
      "- green button: pressed 3 times with average reward 0.0\n",
      "- red button: pressed 2 times with average reward 0.0\n",
      "- yellow button: pressed 3 times with average reward 0.3333333333333333\n",
      "- purple button: pressed 1 times with average reward 0.0\n",
      "- orange button: pressed 6 times with average reward 0.3333333333333333\n",
      "- brown button: pressed 1 times with average reward 0.0\n",
      "- pink button: pressed 6 times with average reward 0.3333333333333333\n",
      "- black button: pressed 3 times with average reward 0.3333333333333333\n",
      "- white button: pressed 1 times with average reward 0.0\n",
      "\n",
      "Which button will you choose next? Remember, YOU MUST provide your final answer within the tags <Answer>COLOR</Answer> where COLOR is one of blue, red, green, yellow, purple, orange, brown, pink, black, white. Let's think step by step to make sure we make a good choice.\n"
     ]
    }
   ],
   "source": [
    "print(df.query('run_id == 7').iloc[-1]['user_prompt'])"
   ]
  },
  {
   "cell_type": "code",
   "execution_count": 13,
   "metadata": {},
   "outputs": [
    {
     "name": "stdout",
     "output_type": "stream",
     "text": [
      "Given the data, the **blue button** has the highest average reward of **0.4657534246575342** based on **73** presses. While other buttons like **yellow, orange, pink, and black** have an average reward of **0.3333333333333333**, they have been pressed significantly fewer times (3-6 times), which means their true reward means are less certain. The **blue button** has been pressed the most and has consistently shown the highest average reward.\n",
      "\n",
      "Since this is the **100th and final time step**, the goal is to maximize the expected reward. The **blue button** is the safest and most rewarding choice based on the data.\n",
      "\n",
      "<Answer>blue</Answer>\n"
     ]
    }
   ],
   "source": [
    "print(df.query('run_id == 7').iloc[-1]['raw_prediction'])"
   ]
  },
  {
   "cell_type": "code",
   "execution_count": null,
   "metadata": {},
   "outputs": [],
   "source": []
  }
 ],
 "metadata": {
  "kernelspec": {
   "display_name": ".venv",
   "language": "python",
   "name": "python3"
  },
  "language_info": {
   "codemirror_mode": {
    "name": "ipython",
    "version": 3
   },
   "file_extension": ".py",
   "mimetype": "text/x-python",
   "name": "python",
   "nbconvert_exporter": "python",
   "pygments_lexer": "ipython3",
   "version": "3.13.1"
  }
 },
 "nbformat": 4,
 "nbformat_minor": 2
}
